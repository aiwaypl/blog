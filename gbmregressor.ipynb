{
 "cells": [
  {
   "cell_type": "code",
   "execution_count": 1,
   "metadata": {},
   "outputs": [],
   "source": [
    "import pandas as pd\n",
    "import numpy as np\n",
    "\n",
    "df = pd.read_csv('yellow_tripdata_2018-01.csv', \n",
    "    nrows = 50000,\n",
    "    parse_dates=['tpep_pickup_datetime', 'tpep_dropoff_datetime'],\n",
    "    dtype = \n",
    "         {'VendorID': 'uint8',\n",
    "         'passenger_count': 'uint8',\n",
    "         'trip_distance': 'float32',\n",
    "         'RatecodeID': 'uint8',\n",
    "         'PULocationID': 'uint16',\n",
    "         'DOLocationID': 'uint16',\n",
    "         'payment_type': 'uint8',\n",
    "         'fare_amount': 'float32',\n",
    "         'extra': 'float32',\n",
    "         'mta_tax': 'float32',\n",
    "         'tip_amount': 'float32',\n",
    "         'tolls_amount': 'float32',\n",
    "         'improvement_surcharge': 'float32',\n",
    "         'total_amount': 'float32'}\n",
    "     )\n",
    "df['store_and_fwd_flag'] = df['store_and_fwd_flag'].map({'N': 0, 'Y':1}).astype('bool')"
   ]
  },
  {
   "cell_type": "code",
   "execution_count": 2,
   "metadata": {
    "scrolled": true
   },
   "outputs": [
    {
     "name": "stdout",
     "output_type": "stream",
     "text": [
      "<class 'pandas.core.frame.DataFrame'>\n",
      "Int64Index: 49806 entries, 0 to 49999\n",
      "Data columns (total 17 columns):\n",
      "VendorID                 49806 non-null uint8\n",
      "passenger_count          49806 non-null uint8\n",
      "trip_distance            49806 non-null float32\n",
      "RatecodeID               49806 non-null uint8\n",
      "store_and_fwd_flag       49806 non-null bool\n",
      "PULocationID             49806 non-null uint16\n",
      "DOLocationID             49806 non-null uint16\n",
      "fare_amount              49806 non-null float32\n",
      "extra                    49806 non-null float32\n",
      "mta_tax                  49806 non-null float32\n",
      "tolls_amount             49806 non-null float32\n",
      "improvement_surcharge    49806 non-null float32\n",
      "total_amount             49806 non-null float32\n",
      "payment_type_1           49806 non-null uint8\n",
      "payment_type_2           49806 non-null uint8\n",
      "payment_type_3           49806 non-null uint8\n",
      "payment_type_4           49806 non-null uint8\n",
      "dtypes: bool(1), float32(7), uint16(2), uint8(7)\n",
      "memory usage: 3.5 MB\n"
     ]
    }
   ],
   "source": [
    "df = df[(df['tpep_pickup_datetime'] >= '2018-01-01') & (df['tpep_pickup_datetime'] <= '2018-01-31')]\n",
    "df = df[df['trip_distance']<100]\n",
    "\n",
    "target = df['tip_amount']\n",
    "#df = df[['payment_type', 'trip_distance', 'fare_amount']]\n",
    "\n",
    "df = df.join(pd.get_dummies(df['payment_type'], prefix = 'payment_type')) \n",
    "df.drop(labels = ['payment_type', 'tip_amount', 'tpep_pickup_datetime', 'tpep_dropoff_datetime'], axis = 1, inplace = True)\n",
    "\n",
    "df.info(memory_usage='deep')"
   ]
  },
  {
   "cell_type": "code",
   "execution_count": 3,
   "metadata": {},
   "outputs": [
    {
     "data": {
      "text/html": [
       "<div>\n",
       "<style scoped>\n",
       "    .dataframe tbody tr th:only-of-type {\n",
       "        vertical-align: middle;\n",
       "    }\n",
       "\n",
       "    .dataframe tbody tr th {\n",
       "        vertical-align: top;\n",
       "    }\n",
       "\n",
       "    .dataframe thead th {\n",
       "        text-align: right;\n",
       "    }\n",
       "</style>\n",
       "<table border=\"1\" class=\"dataframe\">\n",
       "  <thead>\n",
       "    <tr style=\"text-align: right;\">\n",
       "      <th></th>\n",
       "      <th>VendorID</th>\n",
       "      <th>passenger_count</th>\n",
       "      <th>trip_distance</th>\n",
       "      <th>RatecodeID</th>\n",
       "      <th>store_and_fwd_flag</th>\n",
       "      <th>PULocationID</th>\n",
       "      <th>DOLocationID</th>\n",
       "      <th>fare_amount</th>\n",
       "      <th>extra</th>\n",
       "      <th>mta_tax</th>\n",
       "      <th>tolls_amount</th>\n",
       "      <th>improvement_surcharge</th>\n",
       "      <th>total_amount</th>\n",
       "      <th>payment_type_1</th>\n",
       "      <th>payment_type_2</th>\n",
       "      <th>payment_type_3</th>\n",
       "      <th>payment_type_4</th>\n",
       "    </tr>\n",
       "  </thead>\n",
       "  <tbody>\n",
       "    <tr>\n",
       "      <th>0</th>\n",
       "      <td>1</td>\n",
       "      <td>1</td>\n",
       "      <td>0.5</td>\n",
       "      <td>1</td>\n",
       "      <td>False</td>\n",
       "      <td>41</td>\n",
       "      <td>24</td>\n",
       "      <td>4.5</td>\n",
       "      <td>0.5</td>\n",
       "      <td>0.5</td>\n",
       "      <td>0.0</td>\n",
       "      <td>0.3</td>\n",
       "      <td>5.800000</td>\n",
       "      <td>0</td>\n",
       "      <td>1</td>\n",
       "      <td>0</td>\n",
       "      <td>0</td>\n",
       "    </tr>\n",
       "    <tr>\n",
       "      <th>1</th>\n",
       "      <td>1</td>\n",
       "      <td>1</td>\n",
       "      <td>2.7</td>\n",
       "      <td>1</td>\n",
       "      <td>False</td>\n",
       "      <td>239</td>\n",
       "      <td>140</td>\n",
       "      <td>14.0</td>\n",
       "      <td>0.5</td>\n",
       "      <td>0.5</td>\n",
       "      <td>0.0</td>\n",
       "      <td>0.3</td>\n",
       "      <td>15.300000</td>\n",
       "      <td>0</td>\n",
       "      <td>1</td>\n",
       "      <td>0</td>\n",
       "      <td>0</td>\n",
       "    </tr>\n",
       "    <tr>\n",
       "      <th>2</th>\n",
       "      <td>1</td>\n",
       "      <td>2</td>\n",
       "      <td>0.8</td>\n",
       "      <td>1</td>\n",
       "      <td>False</td>\n",
       "      <td>262</td>\n",
       "      <td>141</td>\n",
       "      <td>6.0</td>\n",
       "      <td>0.5</td>\n",
       "      <td>0.5</td>\n",
       "      <td>0.0</td>\n",
       "      <td>0.3</td>\n",
       "      <td>8.300000</td>\n",
       "      <td>1</td>\n",
       "      <td>0</td>\n",
       "      <td>0</td>\n",
       "      <td>0</td>\n",
       "    </tr>\n",
       "    <tr>\n",
       "      <th>3</th>\n",
       "      <td>1</td>\n",
       "      <td>1</td>\n",
       "      <td>10.2</td>\n",
       "      <td>1</td>\n",
       "      <td>False</td>\n",
       "      <td>140</td>\n",
       "      <td>257</td>\n",
       "      <td>33.5</td>\n",
       "      <td>0.5</td>\n",
       "      <td>0.5</td>\n",
       "      <td>0.0</td>\n",
       "      <td>0.3</td>\n",
       "      <td>34.799999</td>\n",
       "      <td>0</td>\n",
       "      <td>1</td>\n",
       "      <td>0</td>\n",
       "      <td>0</td>\n",
       "    </tr>\n",
       "    <tr>\n",
       "      <th>4</th>\n",
       "      <td>1</td>\n",
       "      <td>2</td>\n",
       "      <td>2.5</td>\n",
       "      <td>1</td>\n",
       "      <td>False</td>\n",
       "      <td>246</td>\n",
       "      <td>239</td>\n",
       "      <td>12.5</td>\n",
       "      <td>0.5</td>\n",
       "      <td>0.5</td>\n",
       "      <td>0.0</td>\n",
       "      <td>0.3</td>\n",
       "      <td>16.549999</td>\n",
       "      <td>1</td>\n",
       "      <td>0</td>\n",
       "      <td>0</td>\n",
       "      <td>0</td>\n",
       "    </tr>\n",
       "  </tbody>\n",
       "</table>\n",
       "</div>"
      ],
      "text/plain": [
       "   VendorID  passenger_count  trip_distance  RatecodeID  store_and_fwd_flag  \\\n",
       "0         1                1            0.5           1               False   \n",
       "1         1                1            2.7           1               False   \n",
       "2         1                2            0.8           1               False   \n",
       "3         1                1           10.2           1               False   \n",
       "4         1                2            2.5           1               False   \n",
       "\n",
       "   PULocationID  DOLocationID  fare_amount  extra  mta_tax  tolls_amount  \\\n",
       "0            41            24          4.5    0.5      0.5           0.0   \n",
       "1           239           140         14.0    0.5      0.5           0.0   \n",
       "2           262           141          6.0    0.5      0.5           0.0   \n",
       "3           140           257         33.5    0.5      0.5           0.0   \n",
       "4           246           239         12.5    0.5      0.5           0.0   \n",
       "\n",
       "   improvement_surcharge  total_amount  payment_type_1  payment_type_2  \\\n",
       "0                    0.3      5.800000               0               1   \n",
       "1                    0.3     15.300000               0               1   \n",
       "2                    0.3      8.300000               1               0   \n",
       "3                    0.3     34.799999               0               1   \n",
       "4                    0.3     16.549999               1               0   \n",
       "\n",
       "   payment_type_3  payment_type_4  \n",
       "0               0               0  \n",
       "1               0               0  \n",
       "2               0               0  \n",
       "3               0               0  \n",
       "4               0               0  "
      ]
     },
     "execution_count": 3,
     "metadata": {},
     "output_type": "execute_result"
    }
   ],
   "source": [
    "df.head()"
   ]
  },
  {
   "cell_type": "code",
   "execution_count": 4,
   "metadata": {},
   "outputs": [],
   "source": [
    "from sklearn.model_selection import train_test_split\n",
    "X_train, X_test, y_train, y_test = train_test_split(df, target, test_size = 0.3, random_state = 88)"
   ]
  },
  {
   "cell_type": "code",
   "execution_count": 5,
   "metadata": {},
   "outputs": [
    {
     "data": {
      "text/plain": [
       "GradientBoostingRegressor(alpha=0.9, criterion='friedman_mse', init=None,\n",
       "             learning_rate=0.01, loss='ls', max_depth=4, max_features=None,\n",
       "             max_leaf_nodes=None, min_impurity_decrease=0.0,\n",
       "             min_impurity_split=None, min_samples_leaf=1,\n",
       "             min_samples_split=50, min_weight_fraction_leaf=0.0,\n",
       "             n_estimators=500, n_iter_no_change=None, presort='auto',\n",
       "             random_state=None, subsample=1.0, tol=0.0001,\n",
       "             validation_fraction=0.1, verbose=0, warm_start=False)"
      ]
     },
     "execution_count": 5,
     "metadata": {},
     "output_type": "execute_result"
    }
   ],
   "source": [
    "from sklearn.ensemble import GradientBoostingRegressor\n",
    "\n",
    "gbr = GradientBoostingRegressor(\n",
    "    max_depth = 4,\n",
    "    n_estimators = 500,\n",
    "    min_samples_split = 50,\n",
    "    learning_rate = 0.01)\n",
    "gbr.fit(X_train, y_train)"
   ]
  },
  {
   "cell_type": "code",
   "execution_count": 6,
   "metadata": {},
   "outputs": [
    {
     "name": "stdout",
     "output_type": "stream",
     "text": [
      "0.6827235683209094\n",
      "1.069079715908281\n"
     ]
    }
   ],
   "source": [
    "from sklearn.metrics import mean_squared_error\n",
    "y_train_hat = gbr.predict(X_train)\n",
    "y_hat = gbr.predict(X_test)\n",
    "print(mean_squared_error(y_train, y_train_hat))\n",
    "print(mean_squared_error(y_test, y_hat))"
   ]
  },
  {
   "cell_type": "code",
   "execution_count": 7,
   "metadata": {},
   "outputs": [
    {
     "data": {
      "text/plain": [
       "GradientBoostingRegressor(alpha=0.9, criterion='friedman_mse', init=None,\n",
       "             learning_rate=0.01, loss='ls', max_depth=4, max_features=None,\n",
       "             max_leaf_nodes=None, min_impurity_decrease=0.0,\n",
       "             min_impurity_split=None, min_samples_leaf=1,\n",
       "             min_samples_split=50, min_weight_fraction_leaf=0.0,\n",
       "             n_estimators=10000, n_iter_no_change=20, presort='auto',\n",
       "             random_state=None, subsample=1.0, tol=0.0001,\n",
       "             validation_fraction=0.1, verbose=0, warm_start=False)"
      ]
     },
     "execution_count": 7,
     "metadata": {},
     "output_type": "execute_result"
    }
   ],
   "source": [
    "gbr_stop = GradientBoostingRegressor(\n",
    "    max_depth = 4,\n",
    "    n_estimators = 10000,\n",
    "    min_samples_split = 50,\n",
    "    learning_rate = 0.01,\n",
    "    n_iter_no_change = 20)\n",
    "gbr_stop.fit(X_train, y_train)"
   ]
  },
  {
   "cell_type": "code",
   "execution_count": 8,
   "metadata": {},
   "outputs": [
    {
     "data": {
      "text/plain": [
       "4646"
      ]
     },
     "execution_count": 8,
     "metadata": {},
     "output_type": "execute_result"
    }
   ],
   "source": [
    "#liczba estymatorów (drzew)\n",
    "len(gbr_stop.estimators_)"
   ]
  },
  {
   "cell_type": "code",
   "execution_count": 9,
   "metadata": {},
   "outputs": [],
   "source": [
    "import matplotlib.pyplot as plt"
   ]
  },
  {
   "cell_type": "code",
   "execution_count": 10,
   "metadata": {},
   "outputs": [
    {
     "data": {
      "text/plain": [
       "Text(0,0.5,'Wartość funkcji straty')"
      ]
     },
     "execution_count": 10,
     "metadata": {},
     "output_type": "execute_result"
    },
    {
     "data": {
      "image/png": "[encoded data removed]",
      "text/plain": [
       "<Figure size 864x432 with 1 Axes>"
      ]
     },
     "metadata": {},
     "output_type": "display_data"
    }
   ],
   "source": [
    "test_score = np.zeros(len(gbr_stop.train_score_), dtype=np.float64)\n",
    "\n",
    "for i, y_pred in enumerate(gbr_stop.staged_predict(X_test)):\n",
    "    test_score[i] =gbr_stop.loss_(y_test, y_pred)\n",
    "\n",
    "plt.figure(figsize=(12, 6))\n",
    "plt.subplot(1, 2, 1)\n",
    "plt.title('Funkcja straty')\n",
    "plt.plot(np.arange(len(gbr_stop.train_score_)) + 1, gbr_stop.train_score_, 'b-',\n",
    "         label='Funkcja straty na zbiorze treningowym')\n",
    "plt.plot(np.arange(len(gbr_stop.train_score_)) + 1, test_score, 'r-',\n",
    "         label='Funkcja starty na zbiorze testowym')\n",
    "plt.legend(loc='upper right')\n",
    "plt.xlabel('Liczba drzew')\n",
    "plt.ylabel('Wartość funkcji straty')"
   ]
  },
  {
   "cell_type": "code",
   "execution_count": 11,
   "metadata": {},
   "outputs": [
    {
     "name": "stdout",
     "output_type": "stream",
     "text": [
      "0.06692352117546911\n",
      "0.3996684178316139\n"
     ]
    }
   ],
   "source": [
    "y_train_stop_hat = gbr_stop.predict(X_train)\n",
    "y_stop_hat = gbr_stop.predict(X_test)\n",
    "print(mean_squared_error(y_train, y_train_stop_hat))\n",
    "print(mean_squared_error(y_test, y_stop_hat))"
   ]
  },
  {
   "cell_type": "code",
   "execution_count": 12,
   "metadata": {},
   "outputs": [
    {
     "data": {
      "text/plain": [
       "GridSearchCV(cv=5, error_score='raise-deprecating',\n",
       "       estimator=GradientBoostingRegressor(alpha=0.9, criterion='friedman_mse', init=None,\n",
       "             learning_rate=0.01, loss='ls', max_depth=3, max_features=None,\n",
       "             max_leaf_nodes=None, min_impurity_decrease=0.0,\n",
       "             min_impurity_split=None, min_samples_leaf=1,\n",
       "             min_samp...=None, subsample=1.0, tol=0.0001,\n",
       "             validation_fraction=0.1, verbose=0, warm_start=False),\n",
       "       fit_params=None, iid='warn', n_jobs=-1,\n",
       "       param_grid={'max_depth': [3, 4, 5], 'max_features': [3, 5, 7], 'min_samples_split': [2, 50, 200]},\n",
       "       pre_dispatch='2*n_jobs', refit=True, return_train_score=True,\n",
       "       scoring='neg_mean_squared_error', verbose=0)"
      ]
     },
     "execution_count": 12,
     "metadata": {},
     "output_type": "execute_result"
    }
   ],
   "source": [
    "from sklearn.model_selection import GridSearchCV\n",
    "\n",
    "gbr_cv = GradientBoostingRegressor(\n",
    "    n_estimators = 4500,\n",
    "    learning_rate = 0.01)\n",
    "\n",
    "siatka_parametrow_1 = {'max_depth': [3, 4, 5],\n",
    "                     'max_features': [3, 5, 7],\n",
    "                     'min_samples_split': [2, 50, 200]}\n",
    "poszukiwanie_1 = GridSearchCV(gbr_cv, siatka_parametrow_1, cv = 5, n_jobs=-1, scoring='neg_mean_squared_error', return_train_score=True)\n",
    "poszukiwanie_1.fit(X_train, y_train)"
   ]
  },
  {
   "cell_type": "code",
   "execution_count": 13,
   "metadata": {},
   "outputs": [
    {
     "data": {
      "text/plain": [
       "{'max_depth': 5, 'max_features': 7, 'min_samples_split': 200}"
      ]
     },
     "execution_count": 13,
     "metadata": {},
     "output_type": "execute_result"
    }
   ],
   "source": [
    "poszukiwanie_1.best_params_"
   ]
  }
 ],
 "metadata": {
  "kernelspec": {
   "display_name": "Python 3",
   "language": "python",
   "name": "python3"
  },
  "language_info": {
   "codemirror_mode": {
    "name": "ipython",
    "version": 3
   },
   "file_extension": ".py",
   "mimetype": "text/x-python",
   "name": "python",
   "nbconvert_exporter": "python",
   "pygments_lexer": "ipython3",
   "version": "3.6.5"
  }
 },
 "nbformat": 4,
 "nbformat_minor": 2
}
