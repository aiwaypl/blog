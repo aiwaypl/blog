{
 "cells": [
  {
   "cell_type": "code",
   "execution_count": 1,
   "metadata": {},
   "outputs": [],
   "source": [
    "import pandas as pd\n",
    "import numpy as np\n",
    "\n",
    "red = pd.read_csv('winequality-red.csv', sep=\";\")\n",
    "white = pd.read_csv('winequality-white.csv', sep=\";\")\n",
    "\n",
    "red['color'] = 0\n",
    "white['color'] = 1\n",
    "df = pd.concat([red, white], ignore_index=True)"
   ]
  },
  {
   "cell_type": "code",
   "execution_count": 2,
   "metadata": {},
   "outputs": [
    {
     "data": {
      "text/plain": [
       "medium    3915\n",
       "low       2384\n",
       "hight      198\n",
       "dtype: int64"
      ]
     },
     "execution_count": 2,
     "metadata": {},
     "output_type": "execute_result"
    }
   ],
   "source": [
    "target = np.where(df['quality'] <= 5, 'low',\n",
    "        np. where(df['quality'] <= 7, 'medium', 'hight'))\n",
    "df.drop(labels='quality', inplace=True, axis=1)\n",
    "pd.Series(target).value_counts(sort = True)"
   ]
  },
  {
   "cell_type": "code",
   "execution_count": 3,
   "metadata": {},
   "outputs": [],
   "source": [
    "from sklearn.model_selection import train_test_split\n",
    "X_train, X_test, y_train, y_test = train_test_split(df, target, test_size = 0.3, random_state = 88)"
   ]
  },
  {
   "cell_type": "code",
   "execution_count": 4,
   "metadata": {},
   "outputs": [
    {
     "data": {
      "text/plain": [
       "medium    1177\n",
       "low        724\n",
       "hight       49\n",
       "dtype: int64"
      ]
     },
     "execution_count": 4,
     "metadata": {},
     "output_type": "execute_result"
    }
   ],
   "source": [
    "pd.Series(y_test).value_counts(sort = True)"
   ]
  },
  {
   "cell_type": "code",
   "execution_count": 5,
   "metadata": {},
   "outputs": [
    {
     "data": {
      "text/plain": [
       "RandomForestClassifier(bootstrap=True, class_weight=None, criterion='gini',\n",
       "            max_depth=3, max_features=5, max_leaf_nodes=None,\n",
       "            min_impurity_decrease=0.0, min_impurity_split=None,\n",
       "            min_samples_leaf=1, min_samples_split=2,\n",
       "            min_weight_fraction_leaf=0.0, n_estimators=100, n_jobs=None,\n",
       "            oob_score=False, random_state=88, verbose=0, warm_start=False)"
      ]
     },
     "execution_count": 5,
     "metadata": {},
     "output_type": "execute_result"
    }
   ],
   "source": [
    "from sklearn.ensemble import RandomForestClassifier\n",
    "las = RandomForestClassifier(n_estimators=100, max_depth = 3, max_features=5, random_state=88)\n",
    "las.fit(X_train, y_train)"
   ]
  },
  {
   "cell_type": "code",
   "execution_count": 6,
   "metadata": {},
   "outputs": [
    {
     "name": "stdout",
     "output_type": "stream",
     "text": [
      "[[  0   0  49]\n",
      " [  0 418 306]\n",
      " [  0 198 979]]\n",
      "0.7164102564102565\n"
     ]
    }
   ],
   "source": [
    "from sklearn.metrics import confusion_matrix, accuracy_score\n",
    "y_pred = las.predict(X_test)\n",
    "print(confusion_matrix(y_test, y_pred))\n",
    "print(accuracy_score(y_test, y_pred))"
   ]
  },
  {
   "cell_type": "code",
   "execution_count": 7,
   "metadata": {},
   "outputs": [
    {
     "data": {
      "text/html": [
       "<div>\n",
       "<style scoped>\n",
       "    .dataframe tbody tr th:only-of-type {\n",
       "        vertical-align: middle;\n",
       "    }\n",
       "\n",
       "    .dataframe tbody tr th {\n",
       "        vertical-align: top;\n",
       "    }\n",
       "\n",
       "    .dataframe thead th {\n",
       "        text-align: right;\n",
       "    }\n",
       "</style>\n",
       "<table border=\"1\" class=\"dataframe\">\n",
       "  <thead>\n",
       "    <tr style=\"text-align: right;\">\n",
       "      <th></th>\n",
       "      <th>cecha</th>\n",
       "      <th>istotnosc</th>\n",
       "    </tr>\n",
       "  </thead>\n",
       "  <tbody>\n",
       "    <tr>\n",
       "      <th>10</th>\n",
       "      <td>alcohol</td>\n",
       "      <td>0.433421</td>\n",
       "    </tr>\n",
       "    <tr>\n",
       "      <th>1</th>\n",
       "      <td>volatile acidity</td>\n",
       "      <td>0.194081</td>\n",
       "    </tr>\n",
       "    <tr>\n",
       "      <th>7</th>\n",
       "      <td>density</td>\n",
       "      <td>0.151786</td>\n",
       "    </tr>\n",
       "    <tr>\n",
       "      <th>4</th>\n",
       "      <td>chlorides</td>\n",
       "      <td>0.058149</td>\n",
       "    </tr>\n",
       "    <tr>\n",
       "      <th>5</th>\n",
       "      <td>free sulfur dioxide</td>\n",
       "      <td>0.044960</td>\n",
       "    </tr>\n",
       "    <tr>\n",
       "      <th>9</th>\n",
       "      <td>sulphates</td>\n",
       "      <td>0.037160</td>\n",
       "    </tr>\n",
       "    <tr>\n",
       "      <th>2</th>\n",
       "      <td>citric acid</td>\n",
       "      <td>0.033328</td>\n",
       "    </tr>\n",
       "    <tr>\n",
       "      <th>6</th>\n",
       "      <td>total sulfur dioxide</td>\n",
       "      <td>0.021335</td>\n",
       "    </tr>\n",
       "    <tr>\n",
       "      <th>3</th>\n",
       "      <td>residual sugar</td>\n",
       "      <td>0.014316</td>\n",
       "    </tr>\n",
       "    <tr>\n",
       "      <th>0</th>\n",
       "      <td>fixed acidity</td>\n",
       "      <td>0.004730</td>\n",
       "    </tr>\n",
       "    <tr>\n",
       "      <th>8</th>\n",
       "      <td>pH</td>\n",
       "      <td>0.004282</td>\n",
       "    </tr>\n",
       "    <tr>\n",
       "      <th>11</th>\n",
       "      <td>color</td>\n",
       "      <td>0.002451</td>\n",
       "    </tr>\n",
       "  </tbody>\n",
       "</table>\n",
       "</div>"
      ],
      "text/plain": [
       "                   cecha  istotnosc\n",
       "10               alcohol   0.433421\n",
       "1       volatile acidity   0.194081\n",
       "7                density   0.151786\n",
       "4              chlorides   0.058149\n",
       "5    free sulfur dioxide   0.044960\n",
       "9              sulphates   0.037160\n",
       "2            citric acid   0.033328\n",
       "6   total sulfur dioxide   0.021335\n",
       "3         residual sugar   0.014316\n",
       "0          fixed acidity   0.004730\n",
       "8                     pH   0.004282\n",
       "11                 color   0.002451"
      ]
     },
     "execution_count": 7,
     "metadata": {},
     "output_type": "execute_result"
    }
   ],
   "source": [
    "pd.DataFrame({'cecha':X_train.columns, 'istotnosc':las.feature_importances_}).sort_values('istotnosc', ascending=False)"
   ]
  },
  {
   "cell_type": "code",
   "execution_count": 8,
   "metadata": {},
   "outputs": [
    {
     "data": {
      "text/plain": [
       "DecisionTreeClassifier(class_weight=None, criterion='gini', max_depth=3,\n",
       "            max_features=5, max_leaf_nodes=None, min_impurity_decrease=0.0,\n",
       "            min_impurity_split=None, min_samples_leaf=1,\n",
       "            min_samples_split=2, min_weight_fraction_leaf=0.0,\n",
       "            presort=False, random_state=464623904, splitter='best')"
      ]
     },
     "execution_count": 8,
     "metadata": {},
     "output_type": "execute_result"
    }
   ],
   "source": [
    "las.estimators_[1]"
   ]
  },
  {
   "cell_type": "code",
   "execution_count": 9,
   "metadata": {
    "scrolled": true
   },
   "outputs": [
    {
     "data": {
      "image/svg+xml": [
       "<?xml version=\"1.0\" encoding=\"UTF-8\" standalone=\"no\"?>\r\n",
       "<!DOCTYPE svg PUBLIC \"-//W3C//DTD SVG 1.1//EN\"\r\n",
       " \"http://www.w3.org/Graphics/SVG/1.1/DTD/svg11.dtd\">\r\n",
       "<!-- Generated by graphviz version 2.38.0 (20140413.2041)\r\n",
       " -->\r\n",
       "<!-- Title: Tree Pages: 1 -->\r\n",
       "<svg width=\"1294pt\" height=\"433pt\"\r\n",
       " viewBox=\"0.00 0.00 1293.50 433.00\" xmlns=\"http://www.w3.org/2000/svg\" xmlns:xlink=\"http://www.w3.org/1999/xlink\">\r\n",
       "<g id=\"graph0\" class=\"graph\" transform=\"scale(1 1) rotate(0) translate(4 429)\">\r\n",
       "<title>Tree</title>\r\n",
       "<polygon fill=\"white\" stroke=\"none\" points=\"-4,4 -4,-429 1289.5,-429 1289.5,4 -4,4\"/>\r\n",
       "<!-- 0 -->\r\n",
       "<g id=\"node1\" class=\"node\"><title>0</title>\r\n",
       "<path fill=\"#8139e5\" fill-opacity=\"0.360784\" stroke=\"black\" d=\"M712,-425C712,-425 557,-425 557,-425 551,-425 545,-419 545,-413 545,-413 545,-354 545,-354 545,-348 551,-342 557,-342 557,-342 712,-342 712,-342 718,-342 724,-348 724,-354 724,-354 724,-413 724,-413 724,-419 718,-425 712,-425\"/>\r\n",
       "<text text-anchor=\"start\" x=\"581.5\" y=\"-409.8\" font-family=\"Helvetica,sans-Serif\" font-size=\"14.00\">alcohol ≤ 10.117</text>\r\n",
       "<text text-anchor=\"start\" x=\"597\" y=\"-394.8\" font-family=\"Helvetica,sans-Serif\" font-size=\"14.00\">gini = 0.505</text>\r\n",
       "<text text-anchor=\"start\" x=\"583\" y=\"-379.8\" font-family=\"Helvetica,sans-Serif\" font-size=\"14.00\">samples = 2883</text>\r\n",
       "<text text-anchor=\"start\" x=\"553\" y=\"-364.8\" font-family=\"Helvetica,sans-Serif\" font-size=\"14.00\">value = [144, 1688, 2715]</text>\r\n",
       "<text text-anchor=\"start\" x=\"584.5\" y=\"-349.8\" font-family=\"Helvetica,sans-Serif\" font-size=\"14.00\">class = medium</text>\r\n",
       "</g>\r\n",
       "<!-- 1 -->\r\n",
       "<g id=\"node2\" class=\"node\"><title>1</title>\r\n",
       "<path fill=\"#39e581\" fill-opacity=\"0.235294\" stroke=\"black\" d=\"M579.5,-306C579.5,-306 441.5,-306 441.5,-306 435.5,-306 429.5,-300 429.5,-294 429.5,-294 429.5,-235 429.5,-235 429.5,-229 435.5,-223 441.5,-223 441.5,-223 579.5,-223 579.5,-223 585.5,-223 591.5,-229 591.5,-235 591.5,-235 591.5,-294 591.5,-294 591.5,-300 585.5,-306 579.5,-306\"/>\r\n",
       "<text text-anchor=\"start\" x=\"441\" y=\"-290.8\" font-family=\"Helvetica,sans-Serif\" font-size=\"14.00\">volatile acidity ≤ 0.237</text>\r\n",
       "<text text-anchor=\"start\" x=\"473\" y=\"-275.8\" font-family=\"Helvetica,sans-Serif\" font-size=\"14.00\">gini = 0.499</text>\r\n",
       "<text text-anchor=\"start\" x=\"459\" y=\"-260.8\" font-family=\"Helvetica,sans-Serif\" font-size=\"14.00\">samples = 1333</text>\r\n",
       "<text text-anchor=\"start\" x=\"437.5\" y=\"-245.8\" font-family=\"Helvetica,sans-Serif\" font-size=\"14.00\">value = [17, 1188, 906]</text>\r\n",
       "<text text-anchor=\"start\" x=\"475.5\" y=\"-230.8\" font-family=\"Helvetica,sans-Serif\" font-size=\"14.00\">class = low</text>\r\n",
       "</g>\r\n",
       "<!-- 0&#45;&gt;1 -->\r\n",
       "<g id=\"edge1\" class=\"edge\"><title>0&#45;&gt;1</title>\r\n",
       "<path fill=\"none\" stroke=\"black\" d=\"M591.479,-341.907C581.572,-332.56 570.95,-322.538 560.766,-312.929\"/>\r\n",
       "<polygon fill=\"black\" stroke=\"black\" points=\"563.121,-310.338 553.445,-306.021 558.317,-315.429 563.121,-310.338\"/>\r\n",
       "<text text-anchor=\"middle\" x=\"554.171\" y=\"-327.31\" font-family=\"Helvetica,sans-Serif\" font-size=\"14.00\">True</text>\r\n",
       "</g>\r\n",
       "<!-- 8 -->\r\n",
       "<g id=\"node9\" class=\"node\"><title>8</title>\r\n",
       "<path fill=\"#8139e5\" fill-opacity=\"0.674510\" stroke=\"black\" d=\"M831.5,-306C831.5,-306 685.5,-306 685.5,-306 679.5,-306 673.5,-300 673.5,-294 673.5,-294 673.5,-235 673.5,-235 673.5,-229 679.5,-223 685.5,-223 685.5,-223 831.5,-223 831.5,-223 837.5,-223 843.5,-229 843.5,-235 843.5,-235 843.5,-294 843.5,-294 843.5,-300 837.5,-306 831.5,-306\"/>\r\n",
       "<text text-anchor=\"start\" x=\"705.5\" y=\"-290.8\" font-family=\"Helvetica,sans-Serif\" font-size=\"14.00\">alcohol ≤ 10.917</text>\r\n",
       "<text text-anchor=\"start\" x=\"721\" y=\"-275.8\" font-family=\"Helvetica,sans-Serif\" font-size=\"14.00\">gini = 0.404</text>\r\n",
       "<text text-anchor=\"start\" x=\"707\" y=\"-260.8\" font-family=\"Helvetica,sans-Serif\" font-size=\"14.00\">samples = 1550</text>\r\n",
       "<text text-anchor=\"start\" x=\"681.5\" y=\"-245.8\" font-family=\"Helvetica,sans-Serif\" font-size=\"14.00\">value = [127, 500, 1809]</text>\r\n",
       "<text text-anchor=\"start\" x=\"708.5\" y=\"-230.8\" font-family=\"Helvetica,sans-Serif\" font-size=\"14.00\">class = medium</text>\r\n",
       "</g>\r\n",
       "<!-- 0&#45;&gt;8 -->\r\n",
       "<g id=\"edge8\" class=\"edge\"><title>0&#45;&gt;8</title>\r\n",
       "<path fill=\"none\" stroke=\"black\" d=\"M677.521,-341.907C687.428,-332.56 698.05,-322.538 708.234,-312.929\"/>\r\n",
       "<polygon fill=\"black\" stroke=\"black\" points=\"710.683,-315.429 715.555,-306.021 705.879,-310.338 710.683,-315.429\"/>\r\n",
       "<text text-anchor=\"middle\" x=\"714.829\" y=\"-327.31\" font-family=\"Helvetica,sans-Serif\" font-size=\"14.00\">False</text>\r\n",
       "</g>\r\n",
       "<!-- 2 -->\r\n",
       "<g id=\"node3\" class=\"node\"><title>2</title>\r\n",
       "<path fill=\"#8139e5\" fill-opacity=\"0.576471\" stroke=\"black\" d=\"M293.5,-187C293.5,-187 163.5,-187 163.5,-187 157.5,-187 151.5,-181 151.5,-175 151.5,-175 151.5,-116 151.5,-116 151.5,-110 157.5,-104 163.5,-104 163.5,-104 293.5,-104 293.5,-104 299.5,-104 305.5,-110 305.5,-116 305.5,-116 305.5,-175 305.5,-175 305.5,-181 299.5,-187 293.5,-187\"/>\r\n",
       "<text text-anchor=\"start\" x=\"180\" y=\"-171.8\" font-family=\"Helvetica,sans-Serif\" font-size=\"14.00\">density ≤ 0.996</text>\r\n",
       "<text text-anchor=\"start\" x=\"191\" y=\"-156.8\" font-family=\"Helvetica,sans-Serif\" font-size=\"14.00\">gini = 0.441</text>\r\n",
       "<text text-anchor=\"start\" x=\"181\" y=\"-141.8\" font-family=\"Helvetica,sans-Serif\" font-size=\"14.00\">samples = 308</text>\r\n",
       "<text text-anchor=\"start\" x=\"159.5\" y=\"-126.8\" font-family=\"Helvetica,sans-Serif\" font-size=\"14.00\">value = [14, 140, 348]</text>\r\n",
       "<text text-anchor=\"start\" x=\"178.5\" y=\"-111.8\" font-family=\"Helvetica,sans-Serif\" font-size=\"14.00\">class = medium</text>\r\n",
       "</g>\r\n",
       "<!-- 1&#45;&gt;2 -->\r\n",
       "<g id=\"edge2\" class=\"edge\"><title>1&#45;&gt;2</title>\r\n",
       "<path fill=\"none\" stroke=\"black\" d=\"M429.312,-229.816C393.614,-215.005 351.637,-197.589 315.317,-182.52\"/>\r\n",
       "<polygon fill=\"black\" stroke=\"black\" points=\"316.302,-179.139 305.725,-178.54 313.62,-185.605 316.302,-179.139\"/>\r\n",
       "</g>\r\n",
       "<!-- 5 -->\r\n",
       "<g id=\"node6\" class=\"node\"><title>5</title>\r\n",
       "<path fill=\"#39e581\" fill-opacity=\"0.466667\" stroke=\"black\" d=\"M575.5,-187C575.5,-187 445.5,-187 445.5,-187 439.5,-187 433.5,-181 433.5,-175 433.5,-175 433.5,-116 433.5,-116 433.5,-110 439.5,-104 445.5,-104 445.5,-104 575.5,-104 575.5,-104 581.5,-104 587.5,-110 587.5,-116 587.5,-116 587.5,-175 587.5,-175 587.5,-181 581.5,-187 575.5,-187\"/>\r\n",
       "<text text-anchor=\"start\" x=\"454.5\" y=\"-171.8\" font-family=\"Helvetica,sans-Serif\" font-size=\"14.00\">citric acid ≤ 0.235</text>\r\n",
       "<text text-anchor=\"start\" x=\"473\" y=\"-156.8\" font-family=\"Helvetica,sans-Serif\" font-size=\"14.00\">gini = 0.455</text>\r\n",
       "<text text-anchor=\"start\" x=\"459\" y=\"-141.8\" font-family=\"Helvetica,sans-Serif\" font-size=\"14.00\">samples = 1025</text>\r\n",
       "<text text-anchor=\"start\" x=\"441.5\" y=\"-126.8\" font-family=\"Helvetica,sans-Serif\" font-size=\"14.00\">value = [3, 1048, 558]</text>\r\n",
       "<text text-anchor=\"start\" x=\"475.5\" y=\"-111.8\" font-family=\"Helvetica,sans-Serif\" font-size=\"14.00\">class = low</text>\r\n",
       "</g>\r\n",
       "<!-- 1&#45;&gt;5 -->\r\n",
       "<g id=\"edge5\" class=\"edge\"><title>1&#45;&gt;5</title>\r\n",
       "<path fill=\"none\" stroke=\"black\" d=\"M510.5,-222.907C510.5,-214.649 510.5,-205.864 510.5,-197.302\"/>\r\n",
       "<polygon fill=\"black\" stroke=\"black\" points=\"514,-197.021 510.5,-187.021 507,-197.021 514,-197.021\"/>\r\n",
       "</g>\r\n",
       "<!-- 3 -->\r\n",
       "<g id=\"node4\" class=\"node\"><title>3</title>\r\n",
       "<path fill=\"#8139e5\" fill-opacity=\"0.329412\" stroke=\"black\" d=\"M125,-68C125,-68 12,-68 12,-68 6,-68 0,-62 0,-56 0,-56 0,-12 0,-12 0,-6 6,-0 12,-0 12,-0 125,-0 125,-0 131,-0 137,-6 137,-12 137,-12 137,-56 137,-56 137,-62 131,-68 125,-68\"/>\r\n",
       "<text text-anchor=\"start\" x=\"31\" y=\"-52.8\" font-family=\"Helvetica,sans-Serif\" font-size=\"14.00\">gini = 0.485</text>\r\n",
       "<text text-anchor=\"start\" x=\"21\" y=\"-37.8\" font-family=\"Helvetica,sans-Serif\" font-size=\"14.00\">samples = 132</text>\r\n",
       "<text text-anchor=\"start\" x=\"8\" y=\"-22.8\" font-family=\"Helvetica,sans-Serif\" font-size=\"14.00\">value = [1, 89, 133]</text>\r\n",
       "<text text-anchor=\"start\" x=\"18.5\" y=\"-7.8\" font-family=\"Helvetica,sans-Serif\" font-size=\"14.00\">class = medium</text>\r\n",
       "</g>\r\n",
       "<!-- 2&#45;&gt;3 -->\r\n",
       "<g id=\"edge3\" class=\"edge\"><title>2&#45;&gt;3</title>\r\n",
       "<path fill=\"none\" stroke=\"black\" d=\"M168.922,-103.726C154.721,-94.0078 139.601,-83.6597 125.519,-74.0222\"/>\r\n",
       "<polygon fill=\"black\" stroke=\"black\" points=\"127.131,-70.8846 116.902,-68.1252 123.178,-76.6614 127.131,-70.8846\"/>\r\n",
       "</g>\r\n",
       "<!-- 4 -->\r\n",
       "<g id=\"node5\" class=\"node\"><title>4</title>\r\n",
       "<path fill=\"#8139e5\" fill-opacity=\"0.717647\" stroke=\"black\" d=\"M289.5,-68C289.5,-68 167.5,-68 167.5,-68 161.5,-68 155.5,-62 155.5,-56 155.5,-56 155.5,-12 155.5,-12 155.5,-6 161.5,-0 167.5,-0 167.5,-0 289.5,-0 289.5,-0 295.5,-0 301.5,-6 301.5,-12 301.5,-12 301.5,-56 301.5,-56 301.5,-62 295.5,-68 289.5,-68\"/>\r\n",
       "<text text-anchor=\"start\" x=\"191\" y=\"-52.8\" font-family=\"Helvetica,sans-Serif\" font-size=\"14.00\">gini = 0.371</text>\r\n",
       "<text text-anchor=\"start\" x=\"181\" y=\"-37.8\" font-family=\"Helvetica,sans-Serif\" font-size=\"14.00\">samples = 176</text>\r\n",
       "<text text-anchor=\"start\" x=\"163.5\" y=\"-22.8\" font-family=\"Helvetica,sans-Serif\" font-size=\"14.00\">value = [13, 51, 215]</text>\r\n",
       "<text text-anchor=\"start\" x=\"178.5\" y=\"-7.8\" font-family=\"Helvetica,sans-Serif\" font-size=\"14.00\">class = medium</text>\r\n",
       "</g>\r\n",
       "<!-- 2&#45;&gt;4 -->\r\n",
       "<g id=\"edge4\" class=\"edge\"><title>2&#45;&gt;4</title>\r\n",
       "<path fill=\"none\" stroke=\"black\" d=\"M228.5,-103.726C228.5,-95.5175 228.5,-86.8595 228.5,-78.56\"/>\r\n",
       "<polygon fill=\"black\" stroke=\"black\" points=\"232,-78.2996 228.5,-68.2996 225,-78.2996 232,-78.2996\"/>\r\n",
       "</g>\r\n",
       "<!-- 6 -->\r\n",
       "<g id=\"node7\" class=\"node\"><title>6</title>\r\n",
       "<path fill=\"#39e581\" fill-opacity=\"0.686275\" stroke=\"black\" d=\"M453.5,-68C453.5,-68 331.5,-68 331.5,-68 325.5,-68 319.5,-62 319.5,-56 319.5,-56 319.5,-12 319.5,-12 319.5,-6 325.5,-0 331.5,-0 331.5,-0 453.5,-0 453.5,-0 459.5,-0 465.5,-6 465.5,-12 465.5,-12 465.5,-56 465.5,-56 465.5,-62 459.5,-68 453.5,-68\"/>\r\n",
       "<text text-anchor=\"start\" x=\"355\" y=\"-52.8\" font-family=\"Helvetica,sans-Serif\" font-size=\"14.00\">gini = 0.365</text>\r\n",
       "<text text-anchor=\"start\" x=\"345\" y=\"-37.8\" font-family=\"Helvetica,sans-Serif\" font-size=\"14.00\">samples = 316</text>\r\n",
       "<text text-anchor=\"start\" x=\"327.5\" y=\"-22.8\" font-family=\"Helvetica,sans-Serif\" font-size=\"14.00\">value = [0, 377, 119]</text>\r\n",
       "<text text-anchor=\"start\" x=\"357.5\" y=\"-7.8\" font-family=\"Helvetica,sans-Serif\" font-size=\"14.00\">class = low</text>\r\n",
       "</g>\r\n",
       "<!-- 5&#45;&gt;6 -->\r\n",
       "<g id=\"edge6\" class=\"edge\"><title>5&#45;&gt;6</title>\r\n",
       "<path fill=\"none\" stroke=\"black\" d=\"M466.561,-103.726C456.536,-94.423 445.889,-84.5428 435.886,-75.2612\"/>\r\n",
       "<polygon fill=\"black\" stroke=\"black\" points=\"438.095,-72.5362 428.384,-68.2996 433.334,-77.6673 438.095,-72.5362\"/>\r\n",
       "</g>\r\n",
       "<!-- 7 -->\r\n",
       "<g id=\"node8\" class=\"node\"><title>7</title>\r\n",
       "<path fill=\"#39e581\" fill-opacity=\"0.345098\" stroke=\"black\" d=\"M617.5,-68C617.5,-68 495.5,-68 495.5,-68 489.5,-68 483.5,-62 483.5,-56 483.5,-56 483.5,-12 483.5,-12 483.5,-6 489.5,-0 495.5,-0 495.5,-0 617.5,-0 617.5,-0 623.5,-0 629.5,-6 629.5,-12 629.5,-12 629.5,-56 629.5,-56 629.5,-62 623.5,-68 617.5,-68\"/>\r\n",
       "<text text-anchor=\"start\" x=\"519\" y=\"-52.8\" font-family=\"Helvetica,sans-Serif\" font-size=\"14.00\">gini = 0.481</text>\r\n",
       "<text text-anchor=\"start\" x=\"509\" y=\"-37.8\" font-family=\"Helvetica,sans-Serif\" font-size=\"14.00\">samples = 709</text>\r\n",
       "<text text-anchor=\"start\" x=\"491.5\" y=\"-22.8\" font-family=\"Helvetica,sans-Serif\" font-size=\"14.00\">value = [3, 671, 439]</text>\r\n",
       "<text text-anchor=\"start\" x=\"521.5\" y=\"-7.8\" font-family=\"Helvetica,sans-Serif\" font-size=\"14.00\">class = low</text>\r\n",
       "</g>\r\n",
       "<!-- 5&#45;&gt;7 -->\r\n",
       "<g id=\"edge7\" class=\"edge\"><title>5&#45;&gt;7</title>\r\n",
       "<path fill=\"none\" stroke=\"black\" d=\"M527.629,-103.726C531.192,-95.2439 534.957,-86.2819 538.549,-77.7312\"/>\r\n",
       "<polygon fill=\"black\" stroke=\"black\" points=\"541.865,-78.8747 542.511,-68.2996 535.411,-76.1635 541.865,-78.8747\"/>\r\n",
       "</g>\r\n",
       "<!-- 9 -->\r\n",
       "<g id=\"node10\" class=\"node\"><title>9</title>\r\n",
       "<path fill=\"#8139e5\" fill-opacity=\"0.498039\" stroke=\"black\" d=\"M823.5,-187C823.5,-187 693.5,-187 693.5,-187 687.5,-187 681.5,-181 681.5,-175 681.5,-175 681.5,-116 681.5,-116 681.5,-110 687.5,-104 693.5,-104 693.5,-104 823.5,-104 823.5,-104 829.5,-104 835.5,-110 835.5,-116 835.5,-116 835.5,-175 835.5,-175 835.5,-181 829.5,-187 823.5,-187\"/>\r\n",
       "<text text-anchor=\"start\" x=\"723.5\" y=\"-171.8\" font-family=\"Helvetica,sans-Serif\" font-size=\"14.00\">pH ≤ 3.105</text>\r\n",
       "<text text-anchor=\"start\" x=\"721\" y=\"-156.8\" font-family=\"Helvetica,sans-Serif\" font-size=\"14.00\">gini = 0.462</text>\r\n",
       "<text text-anchor=\"start\" x=\"711\" y=\"-141.8\" font-family=\"Helvetica,sans-Serif\" font-size=\"14.00\">samples = 574</text>\r\n",
       "<text text-anchor=\"start\" x=\"689.5\" y=\"-126.8\" font-family=\"Helvetica,sans-Serif\" font-size=\"14.00\">value = [19, 298, 615]</text>\r\n",
       "<text text-anchor=\"start\" x=\"708.5\" y=\"-111.8\" font-family=\"Helvetica,sans-Serif\" font-size=\"14.00\">class = medium</text>\r\n",
       "</g>\r\n",
       "<!-- 8&#45;&gt;9 -->\r\n",
       "<g id=\"edge9\" class=\"edge\"><title>8&#45;&gt;9</title>\r\n",
       "<path fill=\"none\" stroke=\"black\" d=\"M758.5,-222.907C758.5,-214.649 758.5,-205.864 758.5,-197.302\"/>\r\n",
       "<polygon fill=\"black\" stroke=\"black\" points=\"762,-197.021 758.5,-187.021 755,-197.021 762,-197.021\"/>\r\n",
       "</g>\r\n",
       "<!-- 12 -->\r\n",
       "<g id=\"node13\" class=\"node\"><title>12</title>\r\n",
       "<path fill=\"#8139e5\" fill-opacity=\"0.760784\" stroke=\"black\" d=\"M1105.5,-187C1105.5,-187 959.5,-187 959.5,-187 953.5,-187 947.5,-181 947.5,-175 947.5,-175 947.5,-116 947.5,-116 947.5,-110 953.5,-104 959.5,-104 959.5,-104 1105.5,-104 1105.5,-104 1111.5,-104 1117.5,-110 1117.5,-116 1117.5,-116 1117.5,-175 1117.5,-175 1117.5,-181 1111.5,-187 1105.5,-187\"/>\r\n",
       "<text text-anchor=\"start\" x=\"976.5\" y=\"-171.8\" font-family=\"Helvetica,sans-Serif\" font-size=\"14.00\">citric acid ≤ 0.165</text>\r\n",
       "<text text-anchor=\"start\" x=\"995\" y=\"-156.8\" font-family=\"Helvetica,sans-Serif\" font-size=\"14.00\">gini = 0.347</text>\r\n",
       "<text text-anchor=\"start\" x=\"985\" y=\"-141.8\" font-family=\"Helvetica,sans-Serif\" font-size=\"14.00\">samples = 976</text>\r\n",
       "<text text-anchor=\"start\" x=\"955.5\" y=\"-126.8\" font-family=\"Helvetica,sans-Serif\" font-size=\"14.00\">value = [108, 202, 1194]</text>\r\n",
       "<text text-anchor=\"start\" x=\"982.5\" y=\"-111.8\" font-family=\"Helvetica,sans-Serif\" font-size=\"14.00\">class = medium</text>\r\n",
       "</g>\r\n",
       "<!-- 8&#45;&gt;12 -->\r\n",
       "<g id=\"edge12\" class=\"edge\"><title>8&#45;&gt;12</title>\r\n",
       "<path fill=\"none\" stroke=\"black\" d=\"M843.693,-227.122C873.591,-214.355 907.348,-199.941 937.966,-186.867\"/>\r\n",
       "<polygon fill=\"black\" stroke=\"black\" points=\"939.537,-190.002 947.359,-182.856 936.788,-183.564 939.537,-190.002\"/>\r\n",
       "</g>\r\n",
       "<!-- 10 -->\r\n",
       "<g id=\"node11\" class=\"node\"><title>10</title>\r\n",
       "<path fill=\"#8139e5\" fill-opacity=\"0.133333\" stroke=\"black\" d=\"M765,-68C765,-68 660,-68 660,-68 654,-68 648,-62 648,-56 648,-56 648,-12 648,-12 648,-6 654,-0 660,-0 660,-0 765,-0 765,-0 771,-0 777,-6 777,-12 777,-12 777,-56 777,-56 777,-62 771,-68 765,-68\"/>\r\n",
       "<text text-anchor=\"start\" x=\"675\" y=\"-52.8\" font-family=\"Helvetica,sans-Serif\" font-size=\"14.00\">gini = 0.497</text>\r\n",
       "<text text-anchor=\"start\" x=\"665\" y=\"-37.8\" font-family=\"Helvetica,sans-Serif\" font-size=\"14.00\">samples = 107</text>\r\n",
       "<text text-anchor=\"start\" x=\"656\" y=\"-22.8\" font-family=\"Helvetica,sans-Serif\" font-size=\"14.00\">value = [0, 78, 90]</text>\r\n",
       "<text text-anchor=\"start\" x=\"662.5\" y=\"-7.8\" font-family=\"Helvetica,sans-Serif\" font-size=\"14.00\">class = medium</text>\r\n",
       "</g>\r\n",
       "<!-- 9&#45;&gt;10 -->\r\n",
       "<g id=\"edge10\" class=\"edge\"><title>9&#45;&gt;10</title>\r\n",
       "<path fill=\"none\" stroke=\"black\" d=\"M741.371,-103.726C737.808,-95.2439 734.043,-86.2819 730.451,-77.7312\"/>\r\n",
       "<polygon fill=\"black\" stroke=\"black\" points=\"733.589,-76.1635 726.489,-68.2996 727.135,-78.8747 733.589,-76.1635\"/>\r\n",
       "</g>\r\n",
       "<!-- 11 -->\r\n",
       "<g id=\"node12\" class=\"node\"><title>11</title>\r\n",
       "<path fill=\"#8139e5\" fill-opacity=\"0.560784\" stroke=\"black\" d=\"M937.5,-68C937.5,-68 807.5,-68 807.5,-68 801.5,-68 795.5,-62 795.5,-56 795.5,-56 795.5,-12 795.5,-12 795.5,-6 801.5,-0 807.5,-0 807.5,-0 937.5,-0 937.5,-0 943.5,-0 949.5,-6 949.5,-12 949.5,-12 949.5,-56 949.5,-56 949.5,-62 943.5,-68 937.5,-68\"/>\r\n",
       "<text text-anchor=\"start\" x=\"835\" y=\"-52.8\" font-family=\"Helvetica,sans-Serif\" font-size=\"14.00\">gini = 0.444</text>\r\n",
       "<text text-anchor=\"start\" x=\"825\" y=\"-37.8\" font-family=\"Helvetica,sans-Serif\" font-size=\"14.00\">samples = 467</text>\r\n",
       "<text text-anchor=\"start\" x=\"803.5\" y=\"-22.8\" font-family=\"Helvetica,sans-Serif\" font-size=\"14.00\">value = [19, 220, 525]</text>\r\n",
       "<text text-anchor=\"start\" x=\"822.5\" y=\"-7.8\" font-family=\"Helvetica,sans-Serif\" font-size=\"14.00\">class = medium</text>\r\n",
       "</g>\r\n",
       "<!-- 9&#45;&gt;11 -->\r\n",
       "<g id=\"edge11\" class=\"edge\"><title>9&#45;&gt;11</title>\r\n",
       "<path fill=\"none\" stroke=\"black\" d=\"M800.949,-103.726C810.635,-94.423 820.921,-84.5428 830.584,-75.2612\"/>\r\n",
       "<polygon fill=\"black\" stroke=\"black\" points=\"833.044,-77.7511 837.832,-68.2996 828.195,-72.7027 833.044,-77.7511\"/>\r\n",
       "</g>\r\n",
       "<!-- 13 -->\r\n",
       "<g id=\"node14\" class=\"node\"><title>13</title>\r\n",
       "<path fill=\"#8139e5\" fill-opacity=\"0.427451\" stroke=\"black\" d=\"M1085,-68C1085,-68 980,-68 980,-68 974,-68 968,-62 968,-56 968,-56 968,-12 968,-12 968,-6 974,-0 980,-0 980,-0 1085,-0 1085,-0 1091,-0 1097,-6 1097,-12 1097,-12 1097,-56 1097,-56 1097,-62 1091,-68 1085,-68\"/>\r\n",
       "<text text-anchor=\"start\" x=\"995\" y=\"-52.8\" font-family=\"Helvetica,sans-Serif\" font-size=\"14.00\">gini = 0.516</text>\r\n",
       "<text text-anchor=\"start\" x=\"989\" y=\"-37.8\" font-family=\"Helvetica,sans-Serif\" font-size=\"14.00\">samples = 82</text>\r\n",
       "<text text-anchor=\"start\" x=\"976\" y=\"-22.8\" font-family=\"Helvetica,sans-Serif\" font-size=\"14.00\">value = [8, 40, 76]</text>\r\n",
       "<text text-anchor=\"start\" x=\"982.5\" y=\"-7.8\" font-family=\"Helvetica,sans-Serif\" font-size=\"14.00\">class = medium</text>\r\n",
       "</g>\r\n",
       "<!-- 12&#45;&gt;13 -->\r\n",
       "<g id=\"edge13\" class=\"edge\"><title>12&#45;&gt;13</title>\r\n",
       "<path fill=\"none\" stroke=\"black\" d=\"M1032.5,-103.726C1032.5,-95.5175 1032.5,-86.8595 1032.5,-78.56\"/>\r\n",
       "<polygon fill=\"black\" stroke=\"black\" points=\"1036,-78.2996 1032.5,-68.2996 1029,-78.2996 1036,-78.2996\"/>\r\n",
       "</g>\r\n",
       "<!-- 14 -->\r\n",
       "<g id=\"node15\" class=\"node\"><title>14</title>\r\n",
       "<path fill=\"#8139e5\" fill-opacity=\"0.784314\" stroke=\"black\" d=\"M1273.5,-68C1273.5,-68 1127.5,-68 1127.5,-68 1121.5,-68 1115.5,-62 1115.5,-56 1115.5,-56 1115.5,-12 1115.5,-12 1115.5,-6 1121.5,-0 1127.5,-0 1127.5,-0 1273.5,-0 1273.5,-0 1279.5,-0 1285.5,-6 1285.5,-12 1285.5,-12 1285.5,-56 1285.5,-56 1285.5,-62 1279.5,-68 1273.5,-68\"/>\r\n",
       "<text text-anchor=\"start\" x=\"1163\" y=\"-52.8\" font-family=\"Helvetica,sans-Serif\" font-size=\"14.00\">gini = 0.325</text>\r\n",
       "<text text-anchor=\"start\" x=\"1153\" y=\"-37.8\" font-family=\"Helvetica,sans-Serif\" font-size=\"14.00\">samples = 894</text>\r\n",
       "<text text-anchor=\"start\" x=\"1123.5\" y=\"-22.8\" font-family=\"Helvetica,sans-Serif\" font-size=\"14.00\">value = [100, 162, 1118]</text>\r\n",
       "<text text-anchor=\"start\" x=\"1150.5\" y=\"-7.8\" font-family=\"Helvetica,sans-Serif\" font-size=\"14.00\">class = medium</text>\r\n",
       "</g>\r\n",
       "<!-- 12&#45;&gt;14 -->\r\n",
       "<g id=\"edge14\" class=\"edge\"><title>12&#45;&gt;14</title>\r\n",
       "<path fill=\"none\" stroke=\"black\" d=\"M1095.06,-103.726C1110.11,-93.9161 1126.14,-83.4644 1141.05,-73.7496\"/>\r\n",
       "<polygon fill=\"black\" stroke=\"black\" points=\"1143.21,-76.5178 1149.68,-68.1252 1139.39,-70.6535 1143.21,-76.5178\"/>\r\n",
       "</g>\r\n",
       "</g>\r\n",
       "</svg>\r\n"
      ],
      "text/plain": [
       "<graphviz.files.Source at 0x21184587c88>"
      ]
     },
     "execution_count": 9,
     "metadata": {},
     "output_type": "execute_result"
    }
   ],
   "source": [
    "from sklearn.tree import export_graphviz, DecisionTreeClassifier\n",
    "from graphviz import Source\n",
    "\n",
    "#drzewo = DecisionTreeClassifier(max_depth = 2)\n",
    "#drzewo.fit(X_train, y_train)\n",
    "\n",
    "graph = Source(\n",
    "            export_graphviz(las.estimators_[1], out_file=None,\n",
    "            filled=True, rounded=True,\n",
    "            feature_names = X_train.columns,\n",
    "            class_names = ['hight', 'low', 'medium'],\n",
    "            special_characters=True)\n",
    "            )\n",
    "graph\n",
    "#display(SVG(graph.pipe(format='svg')))"
   ]
  }
 ],
 "metadata": {
  "kernelspec": {
   "display_name": "Python 3",
   "language": "python",
   "name": "python3"
  },
  "language_info": {
   "codemirror_mode": {
    "name": "ipython",
    "version": 3
   },
   "file_extension": ".py",
   "mimetype": "text/x-python",
   "name": "python",
   "nbconvert_exporter": "python",
   "pygments_lexer": "ipython3",
   "version": "3.6.5"
  }
 },
 "nbformat": 4,
 "nbformat_minor": 2
}
